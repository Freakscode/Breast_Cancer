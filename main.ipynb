{
 "cells": [
  {
   "cell_type": "markdown",
   "metadata": {},
   "source": [
    "This following Data Science project is aimed to implement coding tools like the powerfull frameworks from Python to make some relations and, hopefully, predictions based on data like: Temperature and position on X, Y, Z axis for a non-invasive thermal treatment on breast cancer."
   ]
  },
  {
   "cell_type": "markdown",
   "metadata": {},
   "source": [
    "Firstable the data that we need is in a private Google Drive folder owned by the research group In Silico members of the Electromagnetic and Radiofrequencies branch (https://drive.google.com/file/d/14o37v_E3-SjZi54PQyw5pkazZGGafSVC/view?usp=sharing) Almost 2GB of data."
   ]
  },
  {
   "cell_type": "code",
   "execution_count": 1,
   "metadata": {},
   "outputs": [],
   "source": [
    "#Importing the needing libraries\n",
    "import numpy as np\n",
    "import pandas as pd\n",
    "import seaborn as sns\n",
    "import matplotlib.pyplot as plt\n"
   ]
  },
  {
   "cell_type": "code",
   "execution_count": 3,
   "metadata": {},
   "outputs": [
    {
     "name": "stdout",
     "output_type": "stream",
     "text": [
      "<class 'pandas.core.frame.DataFrame'>\n"
     ]
    }
   ],
   "source": [
    "#Creating the DataFrame with the data\n",
    "data = pd.read_csv('Breast_thermal_data.csv')\n",
    "print(type(data))"
   ]
  }
 ],
 "metadata": {
  "kernelspec": {
   "display_name": "Python 3.10.5 64-bit",
   "language": "python",
   "name": "python3"
  },
  "language_info": {
   "codemirror_mode": {
    "name": "ipython",
    "version": 3
   },
   "file_extension": ".py",
   "mimetype": "text/x-python",
   "name": "python",
   "nbconvert_exporter": "python",
   "pygments_lexer": "ipython3",
   "version": "3.10.5"
  },
  "orig_nbformat": 4,
  "vscode": {
   "interpreter": {
    "hash": "c210967ddcf415d7c8477171d76c1e8653fd37a8017f4c603faa089a36260050"
   }
  }
 },
 "nbformat": 4,
 "nbformat_minor": 2
}
